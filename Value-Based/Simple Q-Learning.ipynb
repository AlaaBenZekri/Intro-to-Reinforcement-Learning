{
 "cells": [
  {
   "cell_type": "markdown",
   "id": "a228b45b-c260-4b37-be0d-4dfc02e072c4",
   "metadata": {},
   "source": [
    "In this notebook, I will be working on the \"Mountain Car\" (discrete) environment that can be found in the gym library.<br/>\n",
    "The observation space in this environment is composed of the position of the car (along the x-axis) along with its velocity :\n",
    "- The position is clipped to the range `[-1.2, 0.6]`\n",
    "- The velocity is clipped to the range `[-0.07, 0.07]`<br/>\n",
    "\n",
    "There are 3 discrete deterministic actions :\n",
    "- Accelerate to the left\n",
    "- Don't do anything\n",
    "- Accelerate to the right<br/>\n",
    "\n",
    "The default reward provided when using this environment is a peanlity of -1 for each timestep passed before reaching the goal.<br/>\n",
    "\n",
    "An episode ends by either reaching the objective or by reaching a maximum episode length."
   ]
  },
  {
   "cell_type": "markdown",
   "id": "b320bb81-d4ed-4cf6-ba3c-3a1a207708cb",
   "metadata": {},
   "source": [
    "More information concerning the environment can be found in [the official documentation ](https://github.com/openai/gym/blob/master/gym/envs/classic_control/mountain_car.py)."
   ]
  },
  {
   "cell_type": "markdown",
   "id": "ff827177-ddb6-4c74-9b46-30160484cc8c",
   "metadata": {},
   "source": [
    "First of all, we need to import all the necessary libraries :"
   ]
  },
  {
   "cell_type": "code",
   "execution_count": 2,
   "id": "0ba08ce0-703f-443e-b278-bab32cca8d87",
   "metadata": {},
   "outputs": [],
   "source": [
    "import time\n",
    "import random\n",
    "import gym\n",
    "import numpy as np\n",
    "import matplotlib.pyplot as plt\n",
    "from IPython import display\n",
    "%matplotlib inline\n",
    "from collections import namedtuple, deque"
   ]
  },
  {
   "cell_type": "code",
   "execution_count": 3,
   "id": "b73ac662-1d3d-470f-9be1-c94d38dd5656",
   "metadata": {},
   "outputs": [
    {
     "data": {
      "text/plain": [
       "[1]"
      ]
     },
     "execution_count": 3,
     "metadata": {},
     "output_type": "execute_result"
    }
   ],
   "source": [
    "env = gym.make('MountainCar-v0')\n",
    "env._max_episode_steps = 1000\n",
    "env.seed(1)"
   ]
  },
  {
   "cell_type": "markdown",
   "id": "1644fabd-27c9-40ce-8c86-158c5d52f54a",
   "metadata": {},
   "source": [
    "To confirm a part of what we mentioned earlier :"
   ]
  },
  {
   "cell_type": "code",
   "execution_count": 4,
   "id": "cef3308f-8c66-447f-998b-f08b50cc9b03",
   "metadata": {},
   "outputs": [
    {
     "name": "stdout",
     "output_type": "stream",
     "text": [
      "The size of state is:  (2,)\n",
      "No. of Actions:  3\n",
      "Discrete(3)\n"
     ]
    }
   ],
   "source": [
    "print(\"The size of state is: \", env.observation_space.shape)\n",
    "print(\"No. of Actions: \", env.action_space.n)\n",
    "print(env.action_space)"
   ]
  },
  {
   "cell_type": "markdown",
   "id": "bb8edab9-6fe6-4b75-821f-f113f4fbc417",
   "metadata": {},
   "source": [
    "We can show an example of an episode in this environment (using a totally random policy) :"
   ]
  },
  {
   "cell_type": "code",
   "execution_count": 5,
   "id": "1418e154-3115-48a2-b35c-e6b58018b47d",
   "metadata": {},
   "outputs": [
    {
     "name": "stderr",
     "output_type": "stream",
     "text": [
      "C:\\Users\\alaae\\anaconda3\\envs\\torch_env\\lib\\site-packages\\pyglet\\image\\codecs\\wic.py:434: UserWarning: [WinError -2147417850] Cannot change thread mode after it is set\n",
      "  warnings.warn(str(err))\n"
     ]
    }
   ],
   "source": [
    "def random_play():\n",
    "    env.reset()\n",
    "    while True:\n",
    "        env.render(mode='rgb_array')\n",
    "        action = env.action_space.sample()\n",
    "        state, reward, done, _ = env.step(action)\n",
    "        if done:\n",
    "            env.close()\n",
    "            break\n",
    "random_play()"
   ]
  },
  {
   "cell_type": "markdown",
   "id": "bf723553-efc1-420c-81a1-05c3aabf5a64",
   "metadata": {},
   "source": [
    "Now we need to create our agent class that can work based on a epsilon-greedy algorithm to allow exploration.\n",
    "\n",
    "The epsilon constant is used to balance between exploration and exploitation. We can use a decaying epsilon as we may want to explore less the more we learn."
   ]
  },
  {
   "cell_type": "code",
   "execution_count": 6,
   "id": "ffe7e24f-81a6-455c-8ebb-4967dee85abd",
   "metadata": {},
   "outputs": [],
   "source": [
    "class Agent():\n",
    "    def __init__(self, eps = 0., eps_decay = 0., min_eps = 0.,\n",
    "                 GAMMA = 0.99, LR = 0.1, p_size = 24, v_size = 40,\n",
    "                 action_size = 3):\n",
    "        self.action_space = list(range(0, action_size))\n",
    "        self.pos_space = np.linspace(-1.2, 0.6, p_size)\n",
    "        self.vel_space = np.linspace(-0.07, 0.07, v_size)\n",
    "        \n",
    "        self.GAMMA = GAMMA         # discount factor\n",
    "        self.LR = LR               # learning rate\n",
    "        self.eps = eps             # epsilon\n",
    "        self.eps_decay = eps_decay # decay rate of epsilon\n",
    "        self.min_eps = min_eps     # minimum possible value of epsilon\n",
    "        \n",
    "        self.scores = []\n",
    "        self.scores_window = deque(maxlen=50)\n",
    "        \n",
    "        # Intilizing state\n",
    "        self.states = []\n",
    "        for p in range(p_size + 1):\n",
    "            for v in range(v_size + 1):\n",
    "                self.states.append((p, v))\n",
    "        \n",
    "        # Iitliazing Q\n",
    "        self.Q = {}\n",
    "        for s in self.states:\n",
    "            for a in self.action_space:\n",
    "                self.Q[s, a] = 0\n",
    "        \n",
    "                \n",
    "    def decay(self):\n",
    "        self.eps = self.eps - self.eps_decay \\\n",
    "                    if self.eps>self.min_eps else self.min_eps\n",
    "        \n",
    "    def get_state(self, state):\n",
    "        \"\"\"Returns a discrete version of the state.\"\"\"\n",
    "        pos, vel = state\n",
    "        pos_bin = np.digitize(pos, self.pos_space)\n",
    "        vel_bin = np.digitize(vel, self.vel_space)\n",
    "        return pos_bin, vel_bin\n",
    "    \n",
    "    \n",
    "    def act(self, state):\n",
    "        \"\"\"Returns actions for given state as per action value function.\"\"\"\n",
    "        state = self.get_state(state)\n",
    "        values = np.array([self.Q[state, a] for a in self.action_space])\n",
    "        action = np.argmax(values)\n",
    "        g_action = np.random.choice(self.action_space) if np.random.random() < self.eps else action \n",
    "        return g_action\n",
    "        \n",
    "    def step(self, s, a, ns, r):\n",
    "        \"\"\"Updates the state-action values (Q).\"\"\"\n",
    "        na = self.act(ns)\n",
    "        s = self.get_state(s)\n",
    "        ns = self.get_state(ns)\n",
    "        self.Q[s, a] = self.Q[s, a] + self.LR * (r + (self.GAMMA * self.Q[ns, na]) - self.Q[s, a])\n",
    "        \n",
    "    def learn(self, n_episodes=50000, verbose = 0):\n",
    "        \"\"\"trains the agent\"\"\"\n",
    "        for i_episode in range(1, n_episodes+1):\n",
    "            state = env.reset()\n",
    "            score = 0\n",
    "            while True:\n",
    "                action = self.act(state)\n",
    "                next_state, reward, done, _ = env.step(action)\n",
    "                self.step(state, action, next_state, reward)\n",
    "                score += reward\n",
    "                state = next_state\n",
    "                if done:\n",
    "                    break\n",
    "            self.decay()\n",
    "            self.scores_window.append(score)      \n",
    "            self.scores.append(score)             \n",
    "            if (verbose != 0):\n",
    "                print(f'\\rEpisode {i_episode}\\tAverage Score: {np.mean(self.scores_window)}\\tEpsilion: {self.eps}', end=\"\")\n",
    "                if i_episode % (n_episodes//100) == 0:\n",
    "                    print(f'\\rEpisode {i_episode}\\tAverage Score: {np.mean(self.scores_window)}\\tEpsilion: {self.eps}')"
   ]
  },
  {
   "cell_type": "code",
   "execution_count": 43,
   "id": "b9239f2c-89ea-453b-adb1-46c09be6d6fa",
   "metadata": {},
   "outputs": [],
   "source": [
    "agent = Agent(eps = 1., eps_decay = 4e-5, min_eps = 0.1, p_size=12, v_size=20, action_size= 3)"
   ]
  },
  {
   "cell_type": "code",
   "execution_count": 40,
   "id": "60d03256-6369-4e1d-8984-5f90168b31e8",
   "metadata": {},
   "outputs": [],
   "source": [
    "# watch an untrained agent\n",
    "state = env.reset()\n",
    "for j in range(200):\n",
    "    action = agent.act(state)\n",
    "    env.render()\n",
    "    next_state, reward, done, _ = env.step(action)\n",
    "    state = next_state\n",
    "    if done:\n",
    "        break \n",
    "        \n",
    "env.close()"
   ]
  },
  {
   "cell_type": "code",
   "execution_count": 44,
   "id": "a9e00d7a-3f6d-4445-b0e6-0825a45d94f4",
   "metadata": {
    "scrolled": true,
    "tags": []
   },
   "outputs": [
    {
     "name": "stdout",
     "output_type": "stream",
     "text": [
      "Episode 500\tAverage Score: -1000.0\tEpsilion: 0.9799999999999801\n",
      "Episode 1000\tAverage Score: -1000.0\tEpsilion: 0.959999999999961\n",
      "Episode 1500\tAverage Score: -998.5\tEpsilion: 0.93999999999994011\n",
      "Episode 2000\tAverage Score: -986.46\tEpsilion: 0.9199999999999201\n",
      "Episode 2500\tAverage Score: -976.02\tEpsilion: 0.8999999999999001\n",
      "Episode 3000\tAverage Score: -980.64\tEpsilion: 0.8799999999998801\n",
      "Episode 3500\tAverage Score: -982.6\tEpsilion: 0.85999999999986017\n",
      "Episode 4000\tAverage Score: -979.64\tEpsilion: 0.8399999999998401\n",
      "Episode 4500\tAverage Score: -924.04\tEpsilion: 0.8199999999998201\n",
      "Episode 5000\tAverage Score: -883.38\tEpsilion: 0.7999999999998001\n",
      "Episode 5500\tAverage Score: -821.32\tEpsilion: 0.7799999999997801\n",
      "Episode 6000\tAverage Score: -832.86\tEpsilion: 0.7599999999997601\n",
      "Episode 6500\tAverage Score: -783.84\tEpsilion: 0.7399999999997401\n",
      "Episode 7000\tAverage Score: -731.4\tEpsilion: 0.71999999999972201\n",
      "Episode 7500\tAverage Score: -595.64\tEpsilion: 0.6999999999997011\n",
      "Episode 8000\tAverage Score: -580.56\tEpsilion: 0.6799999999996801\n",
      "Episode 8500\tAverage Score: -535.4\tEpsilion: 0.65999999999966601\n",
      "Episode 9000\tAverage Score: -525.52\tEpsilion: 0.6399999999996401\n",
      "Episode 9500\tAverage Score: -522.76\tEpsilion: 0.6199999999996212\n",
      "Episode 10000\tAverage Score: -440.62\tEpsilion: 0.599999999999601\n",
      "Episode 10500\tAverage Score: -398.8\tEpsilion: 0.57999999999958801\n",
      "Episode 11000\tAverage Score: -424.06\tEpsilion: 0.5599999999995601\n",
      "Episode 11500\tAverage Score: -403.32\tEpsilion: 0.5399999999995411\n",
      "Episode 12000\tAverage Score: -532.42\tEpsilion: 0.5199999999995211\n",
      "Episode 12500\tAverage Score: -429.1\tEpsilion: 0.49999999999955001\n",
      "Episode 13000\tAverage Score: -331.36\tEpsilion: 0.47999999999950776\n",
      "Episode 13500\tAverage Score: -341.04\tEpsilion: 0.45999999999951557\n",
      "Episode 14000\tAverage Score: -350.36\tEpsilion: 0.43999999999952336\n",
      "Episode 14500\tAverage Score: -304.2\tEpsilion: 0.419999999999531163\n",
      "Episode 15000\tAverage Score: -369.2\tEpsilion: 0.399999999999538865\n",
      "Episode 15500\tAverage Score: -306.22\tEpsilion: 0.37999999999954653\n",
      "Episode 16000\tAverage Score: -268.36\tEpsilion: 0.35999999999955437\n",
      "Episode 16500\tAverage Score: -277.18\tEpsilion: 0.33999999999956204\n",
      "Episode 17000\tAverage Score: -223.44\tEpsilion: 0.31999999999956986\n",
      "Episode 17500\tAverage Score: -238.74\tEpsilion: 0.29999999999957755\n",
      "Episode 18000\tAverage Score: -241.7\tEpsilion: 0.279999999999585334\n",
      "Episode 18500\tAverage Score: -211.44\tEpsilion: 0.25999999999959306\n",
      "Episode 19000\tAverage Score: -229.7\tEpsilion: 0.239999999999593846\n",
      "Episode 19500\tAverage Score: -213.12\tEpsilion: 0.21999999999958772\n",
      "Episode 20000\tAverage Score: -212.38\tEpsilion: 0.19999999999958162\n",
      "Episode 20500\tAverage Score: -214.32\tEpsilion: 0.17999999999957547\n",
      "Episode 21000\tAverage Score: -178.66\tEpsilion: 0.15999999999956935\n",
      "Episode 21500\tAverage Score: -158.56\tEpsilion: 0.13999999999956322\n",
      "Episode 22000\tAverage Score: -220.58\tEpsilion: 0.11999999999955885\n",
      "Episode 22500\tAverage Score: -160.36\tEpsilion: 0.09999999999955966\n",
      "Episode 23000\tAverage Score: -170.02\tEpsilion: 0.1\n",
      "Episode 23500\tAverage Score: -173.5\tEpsilion: 0.11\n",
      "Episode 24000\tAverage Score: -234.76\tEpsilion: 0.1\n",
      "Episode 24500\tAverage Score: -195.0\tEpsilion: 0.11\n",
      "Episode 25000\tAverage Score: -166.88\tEpsilion: 0.1\n",
      "Episode 25500\tAverage Score: -170.66\tEpsilion: 0.1\n",
      "Episode 26000\tAverage Score: -182.86\tEpsilion: 0.1\n",
      "Episode 26500\tAverage Score: -214.24\tEpsilion: 0.1\n",
      "Episode 27000\tAverage Score: -184.72\tEpsilion: 0.1\n",
      "Episode 27500\tAverage Score: -160.86\tEpsilion: 0.1\n",
      "Episode 28000\tAverage Score: -189.22\tEpsilion: 0.1\n",
      "Episode 28500\tAverage Score: -188.8\tEpsilion: 0.11\n",
      "Episode 29000\tAverage Score: -174.18\tEpsilion: 0.1\n",
      "Episode 29500\tAverage Score: -161.92\tEpsilion: 0.1\n",
      "Episode 30000\tAverage Score: -178.76\tEpsilion: 0.1\n",
      "Episode 30500\tAverage Score: -168.02\tEpsilion: 0.1\n",
      "Episode 31000\tAverage Score: -205.68\tEpsilion: 0.1\n",
      "Episode 31500\tAverage Score: -174.64\tEpsilion: 0.1\n",
      "Episode 32000\tAverage Score: -216.34\tEpsilion: 0.1\n",
      "Episode 32500\tAverage Score: -196.88\tEpsilion: 0.1\n",
      "Episode 33000\tAverage Score: -236.88\tEpsilion: 0.1\n",
      "Episode 33500\tAverage Score: -201.3\tEpsilion: 0.11\n",
      "Episode 34000\tAverage Score: -203.16\tEpsilion: 0.1\n",
      "Episode 34500\tAverage Score: -176.66\tEpsilion: 0.1\n",
      "Episode 35000\tAverage Score: -189.16\tEpsilion: 0.1\n",
      "Episode 35500\tAverage Score: -188.54\tEpsilion: 0.1\n",
      "Episode 36000\tAverage Score: -173.38\tEpsilion: 0.1\n",
      "Episode 36500\tAverage Score: -189.14\tEpsilion: 0.1\n",
      "Episode 37000\tAverage Score: -143.06\tEpsilion: 0.1\n",
      "Episode 37500\tAverage Score: -147.4\tEpsilion: 0.11\n",
      "Episode 38000\tAverage Score: -147.5\tEpsilion: 0.11\n",
      "Episode 38500\tAverage Score: -219.36\tEpsilion: 0.1\n",
      "Episode 39000\tAverage Score: -199.48\tEpsilion: 0.1\n",
      "Episode 39500\tAverage Score: -178.64\tEpsilion: 0.1\n",
      "Episode 40000\tAverage Score: -167.08\tEpsilion: 0.1\n",
      "Episode 40500\tAverage Score: -215.68\tEpsilion: 0.1\n",
      "Episode 41000\tAverage Score: -167.48\tEpsilion: 0.1\n",
      "Episode 41500\tAverage Score: -228.5\tEpsilion: 0.11\n",
      "Episode 42000\tAverage Score: -206.12\tEpsilion: 0.1\n",
      "Episode 42500\tAverage Score: -207.46\tEpsilion: 0.1\n",
      "Episode 43000\tAverage Score: -167.5\tEpsilion: 0.11\n",
      "Episode 43500\tAverage Score: -197.18\tEpsilion: 0.1\n",
      "Episode 44000\tAverage Score: -159.7\tEpsilion: 0.11\n",
      "Episode 44500\tAverage Score: -201.24\tEpsilion: 0.1\n",
      "Episode 45000\tAverage Score: -178.74\tEpsilion: 0.1\n",
      "Episode 45500\tAverage Score: -200.8\tEpsilion: 0.11\n",
      "Episode 46000\tAverage Score: -161.06\tEpsilion: 0.1\n",
      "Episode 46500\tAverage Score: -192.74\tEpsilion: 0.1\n",
      "Episode 47000\tAverage Score: -179.2\tEpsilion: 0.11\n",
      "Episode 47500\tAverage Score: -196.6\tEpsilion: 0.11\n",
      "Episode 48000\tAverage Score: -226.72\tEpsilion: 0.1\n",
      "Episode 48500\tAverage Score: -164.42\tEpsilion: 0.1\n",
      "Episode 49000\tAverage Score: -195.0\tEpsilion: 0.11\n",
      "Episode 49500\tAverage Score: -177.76\tEpsilion: 0.1\n",
      "Episode 50000\tAverage Score: -177.26\tEpsilion: 0.1\n"
     ]
    },
    {
     "data": {
      "image/png": "[encoded data removed]",
      "text/plain": [
       "<Figure size 432x288 with 1 Axes>"
      ]
     },
     "metadata": {
      "needs_background": "light"
     },
     "output_type": "display_data"
    }
   ],
   "source": [
    "agent.learn(n_episodes=50000, verbose = 1)\n",
    "# plot the scores\n",
    "fig = plt.figure()\n",
    "ax = fig.add_subplot(111)\n",
    "plt.plot(np.arange(len(agent.scores)), agent.scores)\n",
    "plt.ylabel('Score')\n",
    "plt.xlabel('Episode #')\n",
    "plt.show()"
   ]
  },
  {
   "cell_type": "markdown",
   "id": "67b88b2b-0b39-420a-bdf3-54d9cbe41536",
   "metadata": {},
   "source": [
    "Through the following graph we can see that the agent has learn pretty well to consistently climb the mountain in a small amount of time :"
   ]
  },
  {
   "cell_type": "code",
   "execution_count": 52,
   "id": "19152ae4-6495-4cd1-a16d-2023148a321a",
   "metadata": {},
   "outputs": [
    {
     "data": {
      "image/png": "[encoded data removed]",
      "text/plain": [
       "<Figure size 432x288 with 1 Axes>"
      ]
     },
     "metadata": {
      "needs_background": "light"
     },
     "output_type": "display_data"
    }
   ],
   "source": [
    "# plot the scores\n",
    "fig = plt.figure()\n",
    "ax = fig.add_subplot(111)\n",
    "plt.plot(49950+np.arange(len(agent.scores_window)), agent.scores_window)\n",
    "plt.ylabel('Score')\n",
    "plt.xlabel('Episode #')\n",
    "plt.show()"
   ]
  },
  {
   "cell_type": "code",
   "execution_count": 54,
   "id": "22e35505-981f-4903-a6f2-8b77b1a6904e",
   "metadata": {},
   "outputs": [
    {
     "name": "stdout",
     "output_type": "stream",
     "text": [
      "Your total score is:  -126.0\n"
     ]
    }
   ],
   "source": [
    "# watch a trained agent\n",
    "l = []\n",
    "r = []\n",
    "state = env.reset()\n",
    "score = 0\n",
    "while True:\n",
    "    env.render()\n",
    "    action = agent.act(state)\n",
    "    env.render(mode='human')\n",
    "    state, reward, done, _ = env.step(action)\n",
    "    r.append(reward)\n",
    "    l.append(state)\n",
    "    score += reward\n",
    "    if done:\n",
    "        print(\"Your total score is: \", score)\n",
    "        break \n",
    "        \n",
    "env.close()"
   ]
  },
  {
   "cell_type": "markdown",
   "id": "17f9fac3-a99a-4744-b89d-ad12a76a68ff",
   "metadata": {},
   "source": [
    "We can observe that the agent has learnt to go backwards sufficiently that it has enough momentum to move forward and climb the mountain :"
   ]
  },
  {
   "cell_type": "code",
   "execution_count": 55,
   "id": "c105fe14-875e-4099-a123-fe84b5986038",
   "metadata": {},
   "outputs": [
    {
     "data": {
      "text/plain": [
       "[<matplotlib.lines.Line2D at 0x18a183080d0>]"
      ]
     },
     "execution_count": 55,
     "metadata": {},
     "output_type": "execute_result"
    },
    {
     "data": {
      "image/png": "[encoded data removed]",
      "text/plain": [
       "<Figure size 432x288 with 1 Axes>"
      ]
     },
     "metadata": {
      "needs_background": "light"
     },
     "output_type": "display_data"
    }
   ],
   "source": [
    "plt.plot(np.array(l)[:,0])"
   ]
  },
  {
   "cell_type": "code",
   "execution_count": 56,
   "id": "c7ed8534-c6b5-4895-839a-bebd3144abc0",
   "metadata": {},
   "outputs": [
    {
     "data": {
      "text/plain": [
       "[<matplotlib.lines.Line2D at 0x18a18367070>]"
      ]
     },
     "execution_count": 56,
     "metadata": {},
     "output_type": "execute_result"
    },
    {
     "data": {
      "image/png": "[encoded data removed]",
      "text/plain": [
       "<Figure size 432x288 with 1 Axes>"
      ]
     },
     "metadata": {
      "needs_background": "light"
     },
     "output_type": "display_data"
    }
   ],
   "source": [
    "plt.plot(np.array(l)[:,1])"
   ]
  },
  {
   "cell_type": "markdown",
   "id": "b6d5d3c1-616a-4b71-94d0-9e753fca09e6",
   "metadata": {},
   "source": [
    "In the remaining of the notebook I experimented with a different rewards' system to find out if I can decrease the time needed to reach the target.\n",
    "\n",
    "Basically, the agent will be rewarded the closer it gets to the objective in addition to the -1 penalty :"
   ]
  },
  {
   "cell_type": "code",
   "execution_count": 11,
   "id": "ed0dcdd9-2a83-43dd-a2b2-0f81bd853b15",
   "metadata": {},
   "outputs": [],
   "source": [
    "def calculate_reward(next_state):\n",
    "    reward = 0\n",
    "    if (next_state[0]>0):\n",
    "        reward += 3*next_state[0]\n",
    "    return reward"
   ]
  },
  {
   "cell_type": "code",
   "execution_count": 12,
   "id": "c3d43842-fd28-4292-9348-c2b10d589b38",
   "metadata": {},
   "outputs": [],
   "source": [
    "class Agent2():\n",
    "    def __init__(self, eps = 0., eps_decay = 0., min_eps = 0.,\n",
    "                 GAMMA = 0.99, LR = 0.1, p_size = 24, v_size = 40,\n",
    "                 action_size = 3):\n",
    "        self.action_space = list(range(0, action_size))\n",
    "        self.pos_space = np.linspace(-1.2, 0.6, p_size)\n",
    "        self.vel_space = np.linspace(-0.07, 0.07, v_size)\n",
    "        \n",
    "        self.GAMMA = GAMMA         # discount factor\n",
    "        self.LR = LR               # learning rate\n",
    "        self.eps = eps             # epsilon\n",
    "        self.eps_decay = eps_decay # decay rate of epsilon\n",
    "        self.min_eps = min_eps     # minimum possible value of epsilon\n",
    "        \n",
    "        self.scores = []\n",
    "        self.scores_window = deque(maxlen=50)\n",
    "        \n",
    "        # Intilizing state\n",
    "        self.states = []\n",
    "        for p in range(p_size + 1):\n",
    "            for v in range(v_size + 1):\n",
    "                self.states.append((p, v))\n",
    "        \n",
    "        # Iitliazing Q\n",
    "        self.Q = {}\n",
    "        for s in self.states:\n",
    "            for a in self.action_space:\n",
    "                self.Q[s, a] = 0\n",
    "        \n",
    "                \n",
    "    def decay(self):\n",
    "        self.eps = self.eps - self.eps_decay \\\n",
    "                    if self.eps>self.min_eps else self.min_eps\n",
    "        \n",
    "    def get_state(self, state):\n",
    "        \"\"\"Returns a discrete version of the state.\"\"\"\n",
    "        pos, vel = state\n",
    "        pos_bin = np.digitize(pos, self.pos_space)\n",
    "        vel_bin = np.digitize(vel, self.vel_space)\n",
    "        return pos_bin, vel_bin\n",
    "    \n",
    "    \n",
    "    def act(self, state):\n",
    "        \"\"\"Returns actions for given state as per action value function.\"\"\"\n",
    "        state = self.get_state(state)\n",
    "        values = np.array([self.Q[state, a] for a in self.action_space])\n",
    "        action = np.argmax(values)\n",
    "        g_action = np.random.choice(self.action_space) if np.random.random() < self.eps else action \n",
    "        return g_action\n",
    "        \n",
    "    def step(self, s, a, ns, r):\n",
    "        \"\"\"Updates the state-action values (Q).\"\"\"\n",
    "        na = self.act(ns)\n",
    "        s = self.get_state(s)\n",
    "        ns = self.get_state(ns)\n",
    "        self.Q[s, a] = self.Q[s, a] + self.LR * (r + (self.GAMMA * self.Q[ns, na]) - self.Q[s, a])\n",
    "        \n",
    "    def learn(self, n_episodes=50000, verbose = 0):\n",
    "        \"\"\"trains the agent\"\"\"\n",
    "        for i_episode in range(1, n_episodes+1):\n",
    "            state = env.reset()\n",
    "            score = 0\n",
    "            while True:\n",
    "                action = self.act(state)\n",
    "                next_state, reward1, done, _ = env.step(action)\n",
    "                reward2 = calculate_reward(next_state)\n",
    "                self.step(state, action, next_state, reward1+reward2)\n",
    "                score += reward1\n",
    "                state = next_state\n",
    "                if done:\n",
    "                    break\n",
    "            self.decay()\n",
    "            self.scores_window.append(score)      \n",
    "            self.scores.append(score)             \n",
    "            if (verbose != 0):\n",
    "                print(f'\\rEpisode {i_episode}\\tAverage Score: {np.mean(self.scores_window)}\\tEpsilion: {self.eps}', end=\"\")\n",
    "                if i_episode % (n_episodes//100) == 0:\n",
    "                    print(f'\\rEpisode {i_episode}\\tAverage Score: {np.mean(self.scores_window)}\\tEpsilion: {self.eps}')"
   ]
  },
  {
   "cell_type": "code",
   "execution_count": 13,
   "id": "6f1b9db3-a9d4-42d2-a299-c79cccc973bb",
   "metadata": {
    "scrolled": true,
    "tags": []
   },
   "outputs": [
    {
     "name": "stdout",
     "output_type": "stream",
     "text": [
      "Episode 250\tAverage Score: -1000.0\tEpsilion: 0.9899999999999901\n",
      "Episode 500\tAverage Score: -1000.0\tEpsilion: 0.9799999999999801\n",
      "Episode 750\tAverage Score: -1000.0\tEpsilion: 0.9699999999999701\n",
      "Episode 1000\tAverage Score: -996.24\tEpsilion: 0.959999999999961\n",
      "Episode 1250\tAverage Score: -1000.0\tEpsilion: 0.9499999999999501\n",
      "Episode 1500\tAverage Score: -999.08\tEpsilion: 0.9399999999999401\n",
      "Episode 1750\tAverage Score: -1000.0\tEpsilion: 0.9299999999999301\n",
      "Episode 2000\tAverage Score: -993.26\tEpsilion: 0.9199999999999201\n",
      "Episode 2250\tAverage Score: -971.34\tEpsilion: 0.9099999999999101\n",
      "Episode 2500\tAverage Score: -978.14\tEpsilion: 0.8999999999999001\n",
      "Episode 2750\tAverage Score: -962.2\tEpsilion: 0.88999999999989914\n",
      "Episode 3000\tAverage Score: -984.6\tEpsilion: 0.87999999999988012\n",
      "Episode 3250\tAverage Score: -974.84\tEpsilion: 0.8699999999998701\n",
      "Episode 3500\tAverage Score: -979.3\tEpsilion: 0.85999999999986601\n",
      "Episode 3750\tAverage Score: -980.9\tEpsilion: 0.84999999999985013\n",
      "Episode 4000\tAverage Score: -957.8\tEpsilion: 0.83999999999984012\n",
      "Episode 4250\tAverage Score: -949.26\tEpsilion: 0.8299999999998301\n",
      "Episode 4500\tAverage Score: -960.02\tEpsilion: 0.8199999999998201\n",
      "Episode 4750\tAverage Score: -957.02\tEpsilion: 0.8099999999998101\n",
      "Episode 5000\tAverage Score: -881.8\tEpsilion: 0.79999999999980011\n",
      "Episode 5250\tAverage Score: -896.76\tEpsilion: 0.7899999999997901\n",
      "Episode 5500\tAverage Score: -923.46\tEpsilion: 0.7799999999997801\n",
      "Episode 5750\tAverage Score: -855.38\tEpsilion: 0.7699999999997701\n",
      "Episode 6000\tAverage Score: -906.16\tEpsilion: 0.7599999999997601\n",
      "Episode 6250\tAverage Score: -781.94\tEpsilion: 0.7499999999997511\n",
      "Episode 6500\tAverage Score: -850.8\tEpsilion: 0.73999999999974401\n",
      "Episode 6750\tAverage Score: -785.24\tEpsilion: 0.7299999999997301\n",
      "Episode 7000\tAverage Score: -803.7\tEpsilion: 0.71999999999972201\n",
      "Episode 7250\tAverage Score: -854.8\tEpsilion: 0.70999999999971101\n",
      "Episode 7500\tAverage Score: -878.5\tEpsilion: 0.69999999999977001\n",
      "Episode 7750\tAverage Score: -850.78\tEpsilion: 0.6899999999996912\n",
      "Episode 8000\tAverage Score: -807.04\tEpsilion: 0.6799999999996811\n",
      "Episode 8250\tAverage Score: -827.86\tEpsilion: 0.6699999999996701\n",
      "Episode 8500\tAverage Score: -895.36\tEpsilion: 0.6599999999996611\n",
      "Episode 8750\tAverage Score: -891.04\tEpsilion: 0.6499999999996501\n",
      "Episode 9000\tAverage Score: -796.62\tEpsilion: 0.6399999999996401\n",
      "Episode 9250\tAverage Score: -686.64\tEpsilion: 0.6299999999996301\n",
      "Episode 9500\tAverage Score: -801.82\tEpsilion: 0.6199999999996201\n",
      "Episode 9750\tAverage Score: -757.98\tEpsilion: 0.6099999999996101\n",
      "Episode 10000\tAverage Score: -773.9\tEpsilion: 0.5999999999996001\n",
      "Episode 10250\tAverage Score: -776.3\tEpsilion: 0.58999999999959901\n",
      "Episode 10500\tAverage Score: -757.56\tEpsilion: 0.5799999999995801\n",
      "Episode 10750\tAverage Score: -650.08\tEpsilion: 0.5699999999995701\n",
      "Episode 11000\tAverage Score: -571.62\tEpsilion: 0.5599999999995601\n",
      "Episode 11250\tAverage Score: -495.22\tEpsilion: 0.5499999999995511\n",
      "Episode 11500\tAverage Score: -472.08\tEpsilion: 0.5399999999995401\n",
      "Episode 11750\tAverage Score: -632.4\tEpsilion: 0.52999999999953301\n",
      "Episode 12000\tAverage Score: -640.9\tEpsilion: 0.51999999999952212\n",
      "Episode 12250\tAverage Score: -615.96\tEpsilion: 0.5099999999995101\n",
      "Episode 12500\tAverage Score: -634.72\tEpsilion: 0.4999999999995001\n",
      "Episode 12750\tAverage Score: -663.44\tEpsilion: 0.48999999999950394\n",
      "Episode 13000\tAverage Score: -497.8\tEpsilion: 0.479999999999507765\n",
      "Episode 13250\tAverage Score: -632.54\tEpsilion: 0.46999999999951164\n",
      "Episode 13500\tAverage Score: -576.52\tEpsilion: 0.45999999999951557\n",
      "Episode 13750\tAverage Score: -438.78\tEpsilion: 0.44999999999951946\n",
      "Episode 14000\tAverage Score: -670.7\tEpsilion: 0.439999999999523326\n",
      "Episode 14250\tAverage Score: -638.8\tEpsilion: 0.429999999999527157\n",
      "Episode 14500\tAverage Score: -653.9\tEpsilion: 0.419999999999531196\n",
      "Episode 14750\tAverage Score: -515.16\tEpsilion: 0.40999999999953497\n",
      "Episode 15000\tAverage Score: -533.56\tEpsilion: 0.39999999999953886\n",
      "Episode 15250\tAverage Score: -477.88\tEpsilion: 0.38999999999954266\n",
      "Episode 15500\tAverage Score: -386.7\tEpsilion: 0.379999999999546537\n",
      "Episode 15750\tAverage Score: -367.52\tEpsilion: 0.36999999999955046\n",
      "Episode 16000\tAverage Score: -564.02\tEpsilion: 0.35999999999955437\n",
      "Episode 16250\tAverage Score: -535.8\tEpsilion: 0.349999999999558165\n",
      "Episode 16500\tAverage Score: -337.92\tEpsilion: 0.33999999999956204\n",
      "Episode 16750\tAverage Score: -710.44\tEpsilion: 0.32999999999956597\n",
      "Episode 17000\tAverage Score: -325.16\tEpsilion: 0.31999999999956985\n",
      "Episode 17250\tAverage Score: -318.42\tEpsilion: 0.30999999999957367\n",
      "Episode 17500\tAverage Score: -509.38\tEpsilion: 0.29999999999957755\n",
      "Episode 17750\tAverage Score: -230.5\tEpsilion: 0.289999999999581446\n",
      "Episode 18000\tAverage Score: -303.9\tEpsilion: 0.279999999999585336\n",
      "Episode 18250\tAverage Score: -539.98\tEpsilion: 0.26999999999958925\n",
      "Episode 18500\tAverage Score: -339.22\tEpsilion: 0.25999999999959306\n",
      "Episode 18750\tAverage Score: -330.52\tEpsilion: 0.24999999999959697\n",
      "Episode 19000\tAverage Score: -278.64\tEpsilion: 0.23999999999959384\n",
      "Episode 19250\tAverage Score: -448.3\tEpsilion: 0.229999999999590783\n",
      "Episode 19500\tAverage Score: -306.06\tEpsilion: 0.21999999999958772\n",
      "Episode 19750\tAverage Score: -226.26\tEpsilion: 0.20999999999958466\n",
      "Episode 20000\tAverage Score: -217.72\tEpsilion: 0.19999999999958162\n",
      "Episode 20250\tAverage Score: -208.86\tEpsilion: 0.18999999999957853\n",
      "Episode 20500\tAverage Score: -252.8\tEpsilion: 0.179999999999575478\n",
      "Episode 20750\tAverage Score: -233.72\tEpsilion: 0.16999999999957242\n",
      "Episode 21000\tAverage Score: -194.1\tEpsilion: 0.159999999999569357\n",
      "Episode 21250\tAverage Score: -361.66\tEpsilion: 0.14999999999956629\n",
      "Episode 21500\tAverage Score: -197.7\tEpsilion: 0.139999999999563224\n",
      "Episode 21750\tAverage Score: -170.34\tEpsilion: 0.12999999999956016\n",
      "Episode 22000\tAverage Score: -205.96\tEpsilion: 0.11999999999955885\n",
      "Episode 22250\tAverage Score: -188.54\tEpsilion: 0.10999999999955926\n",
      "Episode 22500\tAverage Score: -170.78\tEpsilion: 0.09999999999955966\n",
      "Episode 22750\tAverage Score: -195.74\tEpsilion: 0.1\n",
      "Episode 23000\tAverage Score: -431.06\tEpsilion: 0.1\n",
      "Episode 23250\tAverage Score: -172.84\tEpsilion: 0.1\n",
      "Episode 23500\tAverage Score: -160.78\tEpsilion: 0.1\n",
      "Episode 23750\tAverage Score: -194.44\tEpsilion: 0.1\n",
      "Episode 24000\tAverage Score: -162.88\tEpsilion: 0.1\n",
      "Episode 24250\tAverage Score: -233.1\tEpsilion: 0.11\n",
      "Episode 24500\tAverage Score: -186.18\tEpsilion: 0.1\n",
      "Episode 24750\tAverage Score: -177.56\tEpsilion: 0.1\n",
      "Episode 25000\tAverage Score: -172.54\tEpsilion: 0.1\n"
     ]
    },
    {
     "ename": "NameError",
     "evalue": "name 'agent' is not defined",
     "output_type": "error",
     "traceback": [
      "\u001b[1;31m---------------------------------------------------------------------------\u001b[0m",
      "\u001b[1;31mNameError\u001b[0m                                 Traceback (most recent call last)",
      "\u001b[1;32m~\\AppData\\Local\\Temp/ipykernel_17788/2665472223.py\u001b[0m in \u001b[0;36m<module>\u001b[1;34m\u001b[0m\n\u001b[0;32m      4\u001b[0m \u001b[0mfig\u001b[0m \u001b[1;33m=\u001b[0m \u001b[0mplt\u001b[0m\u001b[1;33m.\u001b[0m\u001b[0mfigure\u001b[0m\u001b[1;33m(\u001b[0m\u001b[1;33m)\u001b[0m\u001b[1;33m\u001b[0m\u001b[1;33m\u001b[0m\u001b[0m\n\u001b[0;32m      5\u001b[0m \u001b[0max\u001b[0m \u001b[1;33m=\u001b[0m \u001b[0mfig\u001b[0m\u001b[1;33m.\u001b[0m\u001b[0madd_subplot\u001b[0m\u001b[1;33m(\u001b[0m\u001b[1;36m111\u001b[0m\u001b[1;33m)\u001b[0m\u001b[1;33m\u001b[0m\u001b[1;33m\u001b[0m\u001b[0m\n\u001b[1;32m----> 6\u001b[1;33m \u001b[0mplt\u001b[0m\u001b[1;33m.\u001b[0m\u001b[0mplot\u001b[0m\u001b[1;33m(\u001b[0m\u001b[0mnp\u001b[0m\u001b[1;33m.\u001b[0m\u001b[0marange\u001b[0m\u001b[1;33m(\u001b[0m\u001b[0mlen\u001b[0m\u001b[1;33m(\u001b[0m\u001b[0magent\u001b[0m\u001b[1;33m.\u001b[0m\u001b[0mscores\u001b[0m\u001b[1;33m)\u001b[0m\u001b[1;33m)\u001b[0m\u001b[1;33m,\u001b[0m \u001b[0magent\u001b[0m\u001b[1;33m.\u001b[0m\u001b[0mscores\u001b[0m\u001b[1;33m)\u001b[0m\u001b[1;33m\u001b[0m\u001b[1;33m\u001b[0m\u001b[0m\n\u001b[0m\u001b[0;32m      7\u001b[0m \u001b[0mplt\u001b[0m\u001b[1;33m.\u001b[0m\u001b[0mylabel\u001b[0m\u001b[1;33m(\u001b[0m\u001b[1;34m'Score'\u001b[0m\u001b[1;33m)\u001b[0m\u001b[1;33m\u001b[0m\u001b[1;33m\u001b[0m\u001b[0m\n\u001b[0;32m      8\u001b[0m \u001b[0mplt\u001b[0m\u001b[1;33m.\u001b[0m\u001b[0mxlabel\u001b[0m\u001b[1;33m(\u001b[0m\u001b[1;34m'Episode #'\u001b[0m\u001b[1;33m)\u001b[0m\u001b[1;33m\u001b[0m\u001b[1;33m\u001b[0m\u001b[0m\n",
      "\u001b[1;31mNameError\u001b[0m: name 'agent' is not defined"
     ]
    },
    {
     "data": {
      "image/png": "[encoded data removed]",
      "text/plain": [
       "<Figure size 432x288 with 1 Axes>"
      ]
     },
     "metadata": {
      "needs_background": "light"
     },
     "output_type": "display_data"
    }
   ],
   "source": [
    "agent2 = Agent2(eps = 1., eps_decay = 4e-5, min_eps = 0.1, p_size=12, v_size=20, action_size= 3)\n",
    "agent2.learn(n_episodes=25000, verbose = 1)\n",
    "# plot the scores\n",
    "fig = plt.figure()\n",
    "ax = fig.add_subplot(111)\n",
    "plt.plot(np.arange(len(agent.scores)), agent.scores)\n",
    "plt.ylabel('Score')\n",
    "plt.xlabel('Episode #')\n",
    "plt.show()"
   ]
  },
  {
   "cell_type": "code",
   "execution_count": 14,
   "id": "599dd928-951f-4f6d-866a-4246682f053b",
   "metadata": {},
   "outputs": [
    {
     "data": {
      "image/png": "[encoded data removed]",
      "text/plain": [
       "<Figure size 432x288 with 1 Axes>"
      ]
     },
     "metadata": {
      "needs_background": "light"
     },
     "output_type": "display_data"
    }
   ],
   "source": [
    "# plot the scores\n",
    "fig = plt.figure()\n",
    "ax = fig.add_subplot(111)\n",
    "plt.plot(49950+np.arange(len(agent2.scores_window)), agent2.scores_window)\n",
    "plt.ylabel('Score')\n",
    "plt.xlabel('Episode #')\n",
    "plt.show()"
   ]
  },
  {
   "cell_type": "code",
   "execution_count": 21,
   "id": "4d6ae1e8-38ca-4bd4-811d-473d199ef10e",
   "metadata": {},
   "outputs": [
    {
     "name": "stdout",
     "output_type": "stream",
     "text": [
      "Your total score is:  -157.0\n"
     ]
    }
   ],
   "source": [
    "# watch a trained agent\n",
    "l = []\n",
    "r = []\n",
    "state = env.reset()\n",
    "score = 0\n",
    "while True:\n",
    "    env.render()\n",
    "    action = agent2.act(state)\n",
    "    env.render(mode='human')\n",
    "    state, reward, done, _ = env.step(action)\n",
    "    r.append(reward)\n",
    "    l.append(state)\n",
    "    score += reward\n",
    "    if done:\n",
    "        print(\"Your total score is: \", score)\n",
    "        break \n",
    "        \n",
    "env.close()"
   ]
  },
  {
   "cell_type": "markdown",
   "id": "6eff4e30-8cb8-468e-99f2-b16d9202073b",
   "metadata": {},
   "source": [
    "We can observe from the following figure that the strategy taken by the agent has changed slightly due to the different rewarding system; it is going backwards since the beginning to ensure that it goes as far forward as possible : "
   ]
  },
  {
   "cell_type": "code",
   "execution_count": 22,
   "id": "4d325e2a-d593-4eea-b813-3287e472ce77",
   "metadata": {},
   "outputs": [
    {
     "data": {
      "text/plain": [
       "[<matplotlib.lines.Line2D at 0x29bac452af0>]"
      ]
     },
     "execution_count": 22,
     "metadata": {},
     "output_type": "execute_result"
    },
    {
     "data": {
      "image/png": "[encoded data removed]",
      "text/plain": [
       "<Figure size 432x288 with 1 Axes>"
      ]
     },
     "metadata": {
      "needs_background": "light"
     },
     "output_type": "display_data"
    }
   ],
   "source": [
    "plt.plot(np.array(l)[:,0])"
   ]
  },
  {
   "cell_type": "code",
   "execution_count": 24,
   "id": "97a4d070-9d07-4f63-859d-f33eedca94d2",
   "metadata": {},
   "outputs": [
    {
     "data": {
      "text/plain": [
       "[<matplotlib.lines.Line2D at 0x29bac52a7c0>]"
      ]
     },
     "execution_count": 24,
     "metadata": {},
     "output_type": "execute_result"
    },
    {
     "data": {
      "image/png": "[encoded data removed]",
      "text/plain": [
       "<Figure size 432x288 with 1 Axes>"
      ]
     },
     "metadata": {
      "needs_background": "light"
     },
     "output_type": "display_data"
    }
   ],
   "source": [
    "plt.plot(np.array(l)[:,1])"
   ]
  }
 ],
 "metadata": {
  "kernelspec": {
   "display_name": "Python 3 (ipykernel)",
   "language": "python",
   "name": "python3"
  },
  "language_info": {
   "codemirror_mode": {
    "name": "ipython",
    "version": 3
   },
   "file_extension": ".py",
   "mimetype": "text/x-python",
   "name": "python",
   "nbconvert_exporter": "python",
   "pygments_lexer": "ipython3",
   "version": "3.8.12"
  }
 },
 "nbformat": 4,
 "nbformat_minor": 5
}
